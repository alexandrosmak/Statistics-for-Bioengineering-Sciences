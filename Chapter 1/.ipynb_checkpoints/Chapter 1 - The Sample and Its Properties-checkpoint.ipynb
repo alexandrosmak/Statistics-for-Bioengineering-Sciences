{
 "cells": [
  {
   "cell_type": "markdown",
   "id": "8a8edc8b-8e2e-4af4-9096-83dfd838b250",
   "metadata": {},
   "source": [
    "# Chapter 1 - The Sample and Its Properties (descriptive statistics)"
   ]
  },
  {
   "cell_type": "code",
   "execution_count": null,
   "id": "b38a6ee3-0d64-40f6-b661-12f7d579415b",
   "metadata": {},
   "outputs": [],
   "source": []
  }
 ],
 "metadata": {
  "kernelspec": {
   "display_name": "Python 3 (ipykernel)",
   "language": "python",
   "name": "python3"
  },
  "language_info": {
   "codemirror_mode": {
    "name": "ipython",
    "version": 3
   },
   "file_extension": ".py",
   "mimetype": "text/x-python",
   "name": "python",
   "nbconvert_exporter": "python",
   "pygments_lexer": "ipython3",
   "version": "3.9.12"
  }
 },
 "nbformat": 4,
 "nbformat_minor": 5
}
