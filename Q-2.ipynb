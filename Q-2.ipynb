{
 "cells": [
  {
   "cell_type": "code",
   "execution_count": 1,
   "metadata": {},
   "outputs": [],
   "source": [
    "import sys, os, time\n",
    "import numpy as np\n",
    "import scipy.io as io\n",
    "import matplotlib.pyplot as plt\n",
    "import math\n",
    "from mpl_toolkits import mplot3d\n",
    "from sklearn.decomposition import PCA\n",
    "from sklearn.metrics.pairwise import cosine_similarity\n",
    "from sklearn.manifold import MDS\n",
    "from mpl_toolkits.mplot3d import Axes3D\n",
    "from matplotlib import colors\n",
    "from matplotlib import cm\n",
    "from scipy.spatial.distance import pdist, squareform\n",
    "import random\n",
    "import pandas as pd \n",
    "import seaborn as sns #I used sns.distplot because it has more manual properties than plt.hist()\n",
    "from scipy.stats import pearsonr #includes the PCC function\n",
    "import networkx as nx #Graph\n",
    "from itertools import groupby #to find groups of integers \n",
    "from operator import itemgetter\n",
    "import matplotlib.pyplot as plt; plt.rcdefaults()\n",
    "from scipy.stats import skew\n",
    "from scipy.stats import norm\n",
    "import statsmodels.api as sm \n",
    "import pylab as py \n",
    "from itertools import permutations \n",
    "from itertools import combinations \n",
    "from itertools import combinations_with_replacement  \n",
    "import statistics\n",
    "import scipy\n",
    "from scipy.stats import t\n",
    "from scipy.stats import mannwhitneyu\n",
    "from scipy.stats import wilcoxon\n",
    "from scipy.stats import ranksums\n",
    "from scipy.stats import kruskal\n",
    "from scipy.stats import friedmanchisquare\n",
    "from scipy.stats import binom\n",
    "import pandas as pd\n",
    "from scipy import stats\n",
    "from statsmodels.stats import weightstats as stests\n",
    "from scipy.stats import ttest_ind\n",
    "from scipy.stats import f_oneway\n",
    "from numpy import mean\n",
    "from numpy import std\n",
    "from numpy.random import randn\n",
    "from numpy.random import seed\n",
    "from matplotlib import pyplot\n",
    "from numpy.random import randn\n",
    "from numpy.random import seed\n",
    "from numpy import cov\n",
    "\n",
    "def SignTest (data1, data2,p): # p value is symmetric around the mean\n",
    "    N = len(data1) # total samples\n",
    "    n_pos = 0\n",
    "    n_neg = 0\n",
    "    n_zero = 0\n",
    "    for i in range(0,N):\n",
    "        if( data1[i]-data2[i] > 0 ):\n",
    "            n_pos +=1\n",
    "        elif (data1[i]-data2[i] < 0):\n",
    "            n_neg +=1\n",
    "        else:\n",
    "            n_zero +=1\n",
    "    if(abs(n_pos)>abs(n_neg)):\n",
    "        local = n_pos\n",
    "        n_pos = n_neg\n",
    "        n_neg = local\n",
    "    p_value = binom.cdf(n_pos, N-n_zero, p) + (1- binom.cdf(n_neg-1, N-n_zero, p))\n",
    "    return p_value\n",
    "\n",
    "def SignTest_one_population (data1, true_mean):\n",
    "    N = len(data1) # total samples\n",
    "    p = 0.5 #is symmetric around the mean\n",
    "    n_pos = 0\n",
    "    n_neg = 0\n",
    "    n_zero = 0\n",
    "    for i in range(0,N):\n",
    "        if( data1[i]-true_mean > 0 ):\n",
    "            n_pos +=1\n",
    "        elif (data1[i]- true_mean < 0):\n",
    "            n_neg +=1\n",
    "        else:\n",
    "            n_zero +=1\n",
    "    if(abs(n_pos)>abs(n_neg)):\n",
    "        local = n_pos\n",
    "        n_pos = n_neg\n",
    "        n_neg = local\n",
    "    p_value = binom.cdf(n_pos, N-n_zero, p) + (1- binom.cdf(n_neg-1, N-n_zero, p))\n",
    "    return p_value"
   ]
  },
  {
   "cell_type": "code",
   "execution_count": 3,
   "metadata": {},
   "outputs": [
    {
     "name": "stdout",
     "output_type": "stream",
     "text": [
      "Sample Size (N): 30\n",
      "Mean: 2.481\n",
      "SD: 1.616\n",
      "Var: 2.610\n",
      "SE: 0.295\n",
      "Median: 2.130\n",
      "Mode: 2\n",
      "Skewness: 0.324\n"
     ]
    }
   ],
   "source": [
    "A = [1.10, 5.09, 0.97, 5.02, 4.67, 5.22, 0.76, 1.17, 1.57, 1.59, 4.60, 2.69, 3.98, 2.62, 1.66, 0.32, 0.55, 1.45, 0.14, 4.47, 1.20, 3.50, 3.17, 3.03, 2.21, 0.69, 4.47, 3.31, 1.17, 2.05]\n",
    "B = [1,2,3,2]\n",
    "n = len(A) #--------- Sample Size\n",
    "print(\"Sample Size (N):\",n)\n",
    "mn = statistics.mean(A)#--------- Sample Arithmetic mean / average\n",
    "print(\"Mean:\", \"{:.3f}\".format(mn))\n",
    "sd = statistics.stdev(A)#--------- Sample Standard Deviation (SD)\n",
    "print(\"SD:\",\"{:.3f}\".format(sd))\n",
    "vr = statistics.variance(A) #--------- Variance\n",
    "print(\"Var:\",\"{:.3f}\".format(vr))\n",
    "se = scipy.stats.sem(A)#--------- Standard Error (SE)\n",
    "print(\"SE:\",\"{:.3f}\".format(se))\n",
    "median = statistics.median(A) #--------- Median\n",
    "print(\"Median:\",\"{:.3f}\".format(median))\n",
    "mode = statistics.mode(B) #--------- Mode (needs integer)\n",
    "print(\"Mode:\", mode)\n",
    "skewness = skew(A) #--------- Skewness\n",
    "print(\"Skewness:\",\"{:.3f}\".format(skewness))"
   ]
  },
  {
   "cell_type": "markdown",
   "metadata": {},
   "source": [
    "# Check for normality\n",
    "\n",
    "We will check if this Distribution is Normal, by using a Statistical Tests for Normality. The **Shapiro Wilk** is one of the most powerful tests. By using the function ```stats.shapiro(data)``` we calculate the P-Value. The P-Value is used to decide whether the difference is large enough to reject the null hypothesis. If the P-Value is larger than 0.05, we assume a normal distribution. If the P-Value is smaller than 0.05, we do not assume a normal distribution.\n",
    "\n",
    "However, if data >5000, the P-Value is less than 0.001. **This does not mean that we reject the null hypothesis and that the ```distribution_array_without_diagonal```data are not normaly distributed, but the data size is too larger in order to reject the null hypothesis.**  \n",
    "\n",
    "So, in our case we will use **Q-Q Plot** which is a **graphical tool** to help us assess if a set of data plausibly came from a Normal distribution. It’s just a visual check, not an air-tight proof, so it is somewhat subjective. In **Q-Q Plot** If the points (**Ordered Values** , **Theoretical Quantiles**) are behave as a **straight line** then the distribution is **Normal**."
   ]
  },
  {
   "cell_type": "code",
   "execution_count": 65,
   "metadata": {},
   "outputs": [
    {
     "name": "stdout",
     "output_type": "stream",
     "text": [
      "The Shapiro–Wilk test tests the null hypothesis that a sample came from a normally distributed population.\n",
      "p-value: 0.761\n",
      "We CAN NOT exclude the null hypotheses --> So the sample is normally distributed\n"
     ]
    },
    {
     "data": {
      "text/plain": [
       "<Figure size 600x600 with 0 Axes>"
      ]
     },
     "metadata": {},
     "output_type": "display_data"
    },
    {
     "data": {
      "image/png": "[encoded data removed]",
      "text/plain": [
       "<Figure size 640x480 with 1 Axes>"
      ]
     },
     "metadata": {},
     "output_type": "display_data"
    }
   ],
   "source": [
    "A=[112.3, 97.0, 92.7, 86.0, 102.0, 99.2, 95.8, 103.5, 89.0, 86.7]\n",
    "a = 0.1\n",
    "\n",
    "print(\"The Shapiro–Wilk test tests the null hypothesis that a sample came from a normally distributed population.\")\n",
    "Shapiro_Wilk_test_p_value = scipy.stats.shapiro(A)[1]\n",
    "print(\"p-value:\",\"{:.3f}\".format(Shapiro_Wilk_test_p_value))\n",
    "\n",
    "#--------- hypotheses testing \n",
    "if( abs(Shapiro_Wilk_test_p_value) <  abs(a) ):\n",
    "    print(\"The null hypotheses CAN be rejected --> So the sample is NOT normally distributed\")\n",
    "else:\n",
    "    print(\"We CAN NOT exclude the null hypotheses --> So the sample is normally distributed\")\n",
    "\n",
    "plt.figure(4, figsize=(6,6))\n",
    "fig = sm.qqplot(np.array(A))\n",
    "py.show() "
   ]
  },
  {
   "cell_type": "markdown",
   "metadata": {},
   "source": [
    "# Hypothesis testing"
   ]
  },
  {
   "cell_type": "code",
   "execution_count": 3,
   "metadata": {},
   "outputs": [
    {
     "name": "stdout",
     "output_type": "stream",
     "text": [
      "------------------------------ data information -------------------------\n",
      "Sample Size (N): 10\n",
      "Mean: 96.300\n",
      "SD: 8.460\n",
      "------------------- way-1 ------------- Statistic Comparison --------------\n",
      "Z Statistic: -3.252\n",
      "Critical Value: 1.645\n",
      "The null hypotheses CAN be rejected\n",
      "------------------- way-2 -------------- P-value Comparison ---------------\n",
      "Z Statistic -3.252\n",
      "p-value: 0.001\n",
      "a value: 0.1\n",
      "The null hypotheses CAN be rejected\n"
     ]
    }
   ],
   "source": [
    "#------------------------------------------ ONE POPULATION ------------------------------------------#\n",
    "#------------------------- Parametric and Non Parametric Tests\n",
    "#------- Large Sample (Z-test)\n",
    "# Given a list of data and one population/true mean. \n",
    "\n",
    "#A=[112.3, 97.0, 92.7, 86.0, 102.0, 99.2, 95.8, 103.5, 89.0, 86.7]\n",
    "A= [112, 97, 92, 86, 104, 99, 95, 103, 89, 86]\n",
    "true_mean = 105\n",
    "a_value = 0.1 # Two-tailed test!!! a = Significance level\n",
    "\n",
    "\n",
    "print(\"------------------------------ data information -------------------------\")\n",
    "sample_N = len(A) #--------- Sample Size\n",
    "print(\"Sample Size (N):\",sample_N)\n",
    "sample_mean = statistics.mean(A)#--------- Sample Arithmetic mean / average\n",
    "print(\"Mean:\", \"{:.3f}\".format(sample_mean))\n",
    "sample_sd = statistics.stdev(A)#--------- Sample Standard Deviation (SD)\n",
    "print(\"SD:\",\"{:.3f}\".format(sample_sd))\n",
    "\n",
    "\n",
    "print(\"------------------- way-1 ------------- Statistic Comparison --------------\")\n",
    "#--------- z Statistic (way-1)\n",
    "z_statistic = (sample_mean-true_mean)/(sample_sd/math.sqrt(sample_N))\n",
    "print(\"Z Statistic:\",\"{:.3f}\".format(z_statistic))\n",
    "#---------  Z Critical Value\n",
    "z_critical_value_two = scipy.stats.norm.ppf(1-a/2) #<--- Two-tailed test\n",
    "print(\"Critical Value:\", \"{:.3f}\".format(z_critical_value_two))\n",
    "#z_critical_value_left = scipy.stats.norm.ppf(a) #<--- Left-tailed test\n",
    "#print(\"Left-tailed: z Critical Value:\", \"{:.3f}\".format(z_critical_value_left))\n",
    "#z_critical_value_right = scipy.stats.norm.ppf(1-a) #<--- Right-tailed test\n",
    "#print(\"Right-tailed: z Critical Value:\", \"{:.3f}\".format(z_critical_value_right))\n",
    "#--------- hypotheses testing \n",
    "if( abs(z_critical_value_two) <  abs(z_statistic) ):\n",
    "    print(\"The null hypotheses CAN be rejected\")\n",
    "else:\n",
    "    print(\"We CAN NOT exclude the null hypotheses\")\n",
    "  \n",
    "\n",
    "print(\"------------------- way-2 -------------- P-value Comparison ---------------\")\n",
    "#--------- z Statistic (way-2)\n",
    "statistic, p_value = stests.ztest(A,value=true_mean)\n",
    "print(\"Z Statistic\",\"{:.3f}\".format(statistic))\n",
    "print(\"p-value:\",\"{:.3f}\".format(p_value))\n",
    "print(\"a value:\",a_value)\n",
    "if(abs(p_value) < abs(a_value)):\n",
    "    print(\"The null hypotheses CAN be rejected\")\n",
    "else:\n",
    "    print(\"We CAN NOT exclude the null hypotheses\")   "
   ]
  },
  {
   "cell_type": "code",
   "execution_count": 12,
   "metadata": {},
   "outputs": [
    {
     "name": "stdout",
     "output_type": "stream",
     "text": [
      "------------------------------ data information -------------------------\n",
      "Sample Size (N): 10\n",
      "Mean: 96.300\n",
      "SD: 8.460\n",
      "------------------- way-1 ------------- Statistic Comparison --------------\n",
      "t Statistic: -3.252\n",
      "Critical Value: -1.833\n",
      "The null hypotheses CAN be rejected\n",
      "------------------- way-2 -------------- P-value Comparison ---------------\n",
      "t Statistic -3.252\n",
      "p-value: 0.010\n",
      "a value: 0.001\n",
      "We CAN NOT exclude the null hypotheses\n"
     ]
    }
   ],
   "source": [
    "#------------------------------------------ ONE POPULATION ------------------------------------------#\n",
    "#------------------------- Parametric Tests\n",
    "#------- Small Sample (t-test)\n",
    "# Given a list of data and one population/true mean. \n",
    "\n",
    "#A=[112.3, 97.0, 92.7, 86.0, 102.0, 99.2, 95.8, 103.5, 89.0, 86.7]\n",
    "A= [112, 97, 92, 86, 104, 99, 95, 103, 89, 86]\n",
    "true_mean = 105\n",
    "a_value = 0.001 # Two-tailed test!!! a = Significance level\n",
    "\n",
    "\n",
    "print(\"------------------------------ data information -------------------------\")\n",
    "sample_N = len(A) #--------- Sample Size\n",
    "print(\"Sample Size (N):\",sample_N)\n",
    "sample_mean = statistics.mean(A)#--------- Sample Arithmetic mean / average\n",
    "print(\"Mean:\", \"{:.3f}\".format(sample_mean))\n",
    "sample_sd = statistics.stdev(A)#--------- Sample Standard Deviation (SD)\n",
    "print(\"SD:\",\"{:.3f}\".format(sample_sd))\n",
    "\n",
    "print(\"------------------- way-1 ------------- Statistic Comparison --------------\")\n",
    "#--------- t Statistic (way-1)\n",
    "t_statistic = (sample_mean-true_mean)/(sample_sd/math.sqrt(sample_N))\n",
    "print(\"t Statistic:\",\"{:.3f}\".format(t_statistic))\n",
    "#--------- t Distribution: Critical Value\n",
    "df = sample_N-1 # Degrees of freedom\n",
    "t_critical_value = t.ppf(a/2, df)\n",
    "print(\"Critical Value:\",\"{:.3f}\".format(t_critical_value))\n",
    "#--------- hypotheses testing \n",
    "if( abs(t_critical_value) <  abs(t_statistic) ):\n",
    "    print(\"The null hypotheses CAN be rejected\")\n",
    "else:\n",
    "    print(\"We CAN NOT exclude the null hypotheses\")\n",
    "    \n",
    "print(\"------------------- way-2 -------------- P-value Comparison ---------------\")\n",
    "#--------- t Statistic (way-2)\n",
    "statistic, p_value = stats.ttest_1samp(A, true_mean)\n",
    "print(\"t Statistic\",\"{:.3f}\".format(statistic))\n",
    "print(\"p-value:\",\"{:.3f}\".format(p_value))\n",
    "print(\"a value:\",a_value)\n",
    "if(abs(p_value) < abs(a_value)):\n",
    "    print(\"The null hypotheses CAN be rejected\")\n",
    "else:\n",
    "    print(\"We CAN NOT exclude the null hypotheses\")  "
   ]
  },
  {
   "cell_type": "code",
   "execution_count": 3,
   "metadata": {},
   "outputs": [
    {
     "name": "stdout",
     "output_type": "stream",
     "text": [
      "t Statistic: 2.096\n",
      "Critical Value: -2.861\n",
      "We CAN NOT exclude the null hypotheses\n"
     ]
    }
   ],
   "source": [
    "a_value = 0.01 \n",
    "sample_mean = 13\n",
    "true_mean = 10 \n",
    "sample_sd = 6.4\n",
    "sample_N = 20 \n",
    "t_statistic = (sample_mean-true_mean)/(sample_sd/math.sqrt(sample_N))\n",
    "print(\"t Statistic:\",\"{:.3f}\".format(t_statistic))\n",
    "#--------- t Distribution: Critical Value\n",
    "df = sample_N-1 # Degrees of freedom\n",
    "t_critical_value = t.ppf(a_value/2, df)\n",
    "print(\"Critical Value:\",\"{:.3f}\".format(t_critical_value))\n",
    "#--------- hypotheses testing \n",
    "if( abs(t_critical_value) <  abs(t_statistic) ):\n",
    "    print(\"The null hypotheses CAN be rejected\")\n",
    "else:\n",
    "    print(\"We CAN NOT exclude the null hypotheses\")\n",
    "\n",
    "\n"
   ]
  },
  {
   "cell_type": "code",
   "execution_count": 62,
   "metadata": {},
   "outputs": [
    {
     "name": "stdout",
     "output_type": "stream",
     "text": [
      "--Wilcoxon Signed-Rank statistic: 0.000\n",
      "The two-sided p-value: 0.005\n",
      "The null hypotheses CAN be rejected\n",
      "--Sign Test p-value: 0.344\n",
      "We CAN NOT exclude the null hypotheses\n"
     ]
    }
   ],
   "source": [
    "#------------------------------------------ ONE POPULATION ------------------------------------------#\n",
    "#------------------------- Non Parametric Tests\n",
    "#------- Small Sample (Sign/ W. Sign Rank test)\n",
    "# Given a list of data and one population/true mean. \n",
    "\n",
    "d1=[112.3, 97.0, 92.7, 86.0, 102.0, 99.2, 95.8, 103.5, 89.0, 86.7]\n",
    "true_mean = 100\n",
    "a = 0.1 # Two-tailed test!!! a = Significance level\n",
    "\n",
    "\n",
    "statistic, p_value = wilcoxon(d1) #<--- Wilcoxon Signed-Rank Test\n",
    "print(\"--Wilcoxon Signed-Rank statistic:\",\"{:.3f}\".format(statistic))\n",
    "print(\"The two-sided p-value:\",\"{:.3f}\".format(p_value))\n",
    "if(abs(p_value) < abs(a_value)):\n",
    "    print(\"The null hypotheses CAN be rejected\")\n",
    "else:\n",
    "    print(\"We CAN NOT exclude the null hypotheses\")   \n",
    "p_value = SignTest_one_population(d1, true_mean)\n",
    "print(\"--Sign Test p-value:\",\"{:.3f}\".format(p_value))\n",
    "if(abs(p_value) < abs(a_value)):\n",
    "    print(\"The null hypotheses CAN be rejected\")\n",
    "else:\n",
    "    print(\"We CAN NOT exclude the null hypotheses\")   "
   ]
  },
  {
   "cell_type": "code",
   "execution_count": 132,
   "metadata": {},
   "outputs": [
    {
     "name": "stdout",
     "output_type": "stream",
     "text": [
      "------------------------------ data information -------------------------\n",
      "Sample 1 Size (N): 10\n",
      "Mean 1: 169.500\n",
      "Var 1: 372.500\n",
      "Sample 2 Size (N): 10\n",
      "Mean 2: 182.500\n",
      "Var 2: 254.278\n",
      "------------------- way-1 ------------- Statistic Comparison --------------\n",
      "Independent z Statistic: -0.091\n",
      "Two-tailed: z Critical Value: 1.645\n",
      "We CAN NOT exclude the null hypotheses\n",
      "------------------- way-2 -------------- P-value Comparison ---------------\n",
      "Independent Z Statistic -1.642\n",
      "p-value: 0.101\n",
      "a value: 0.01\n",
      "We CAN NOT exclude the null hypotheses\n"
     ]
    }
   ],
   "source": [
    "#------------------------------------------ TWO POPULATIONS ------------------------------------------#\n",
    "#------------------------- Parametric Test Independent\n",
    "#------- Large Sample (Z-test)\n",
    "# Given two lists of data \n",
    "\n",
    "a_value = 0.01\n",
    "d1 = [170, 164, 140, 184, 174, 142, 191, 169, 161, 200]\n",
    "d2 = [201, 179, 159, 195, 177, 170, 183, 179, 170, 212]\n",
    "\n",
    "\n",
    "print(\"------------------------------ data information -------------------------\")\n",
    "sample_1_N = len(d1) #--------- Sample Size\n",
    "print(\"Sample 1 Size (N):\",sample_1_N)\n",
    "sample_1_mean = statistics.mean(d1)#--------- Sample Arithmetic mean / average\n",
    "print(\"Mean 1:\", \"{:.3f}\".format(sample_1_mean))\n",
    "sample_1_vr = statistics.variance(d1) #--------- Variance\n",
    "print(\"Var 1:\",\"{:.3f}\".format(sample_1_vr))\n",
    "sample_2_N = len(d2) #--------- Sample Size\n",
    "print(\"Sample 2 Size (N):\",sample_2_N)\n",
    "sample_2_mean = statistics.mean(d2)#--------- Sample Arithmetic mean / average\n",
    "print(\"Mean 2:\", \"{:.3f}\".format(sample_2_mean))\n",
    "sample_2_vr = statistics.variance(d2) #--------- Variance\n",
    "print(\"Var 2:\",\"{:.3f}\".format(sample_2_vr))\n",
    "\n",
    "print(\"------------------- way-1 ------------- Statistic Comparison --------------\")\n",
    "#--------- z Statistic (way-1)\n",
    "z_indipendent = (sample_1_mean-sample_2_mean)/(math.sqrt((sample_1_vr**2/sample_1_N)+(sample_2_vr**2/sample_2_N)))\n",
    "print(\"Independent z Statistic:\",\"{:.3f}\".format(z_indipendent))\n",
    "#---------  Z Critical Value\n",
    "z_critical_value_two = scipy.stats.norm.ppf(1-a/2) #<--- Two-tailed test\n",
    "print(\"Two-tailed: z Critical Value:\", \"{:.3f}\".format(z_critical_value_two))\n",
    "#z_critical_value_left = scipy.stats.norm.ppf(a) #<--- Left-tailed test\n",
    "#print(\"Left-tailed: z Critical Value:\", \"{:.3f}\".format(z_critical_value_left))\n",
    "#z_critical_value_right = scipy.stats.norm.ppf(1-a) #<--- Right-tailed test\n",
    "#print(\"Right-tailed: z Critical Value:\", \"{:.3f}\".format(z_critical_value_right))\n",
    "#--------- hypotheses testing \n",
    "if( abs(z_critical_value_two) <  abs(z_indipendent) ):\n",
    "    print(\"The null hypotheses CAN be rejected\")\n",
    "else:\n",
    "    print(\"We CAN NOT exclude the null hypotheses\")\n",
    "\n",
    "print(\"------------------- way-2 -------------- P-value Comparison ---------------\")\n",
    "#--------- z Statistic (way-2)\n",
    "statistic, p_value = stests.ztest(d1,d2)\n",
    "print(\"Independent Z Statistic\",\"{:.3f}\".format(statistic))\n",
    "print(\"p-value:\",\"{:.3f}\".format(p_value))\n",
    "print(\"a value:\",a_value)\n",
    "if(abs(p_value) < abs(a_value)):\n",
    "    print(\"The null hypotheses CAN be rejected\")\n",
    "else:\n",
    "    print(\"We CAN NOT exclude the null hypotheses\")  "
   ]
  },
  {
   "cell_type": "code",
   "execution_count": 134,
   "metadata": {},
   "outputs": [
    {
     "name": "stdout",
     "output_type": "stream",
     "text": [
      "------------------------------ data information -------------------------\n",
      "Sample 1 Size (N): 5\n",
      "Mean 1: 10.240\n",
      "Var 1: 1.733\n",
      "Sample 2 Size (N): 5\n",
      "Mean 2: 9.760\n",
      "Var 2: 1.763\n",
      "------------------- way-1 ------------- Statistic Comparison --------------\n",
      "Independent t-test: 0.574\n",
      "t Critical Value: -1.860\n",
      "We CAN NOT exclude the null hypotheses\n",
      "------------------- way-2 -------------- P-value Comparison ---------------\n",
      "Independent t-test: 0.574\n",
      "p-value: 0.582\n",
      "a value: 0.01\n",
      "We CAN NOT exclude the null hypotheses\n"
     ]
    }
   ],
   "source": [
    "#------------------------------------------ TWO POPULATIONS ------------------------------------------#\n",
    "#------------------------- Parametric Test Independent\n",
    "#------- Small Sample (t-test-ANOVA)\n",
    "# Given two lists of data \n",
    "from scipy.stats import ttest_ind\n",
    "\n",
    "a_value = 0.01\n",
    "#d1 = [170, 164, 140, 184, 174, 142, 191, 169, 161, 200]\n",
    "#d2 = [201, 179, 159, 195, 177, 170, 183, 179, 170, 212]\n",
    "d1=[10.6, 9.8, 12.3, 9.7, 8.8]\n",
    "d2=[10.2, 9.4, 11.8, 9.1, 8.3]\n",
    "\n",
    "print(\"------------------------------ data information -------------------------\")\n",
    "sample_1_N = len(d1) #--------- Sample Size\n",
    "print(\"Sample 1 Size (N):\",sample_1_N)\n",
    "sample_1_mean = statistics.mean(d1)#--------- Sample Arithmetic mean / average\n",
    "print(\"Mean 1:\", \"{:.3f}\".format(sample_1_mean))\n",
    "sample_1_vr = statistics.variance(d1) #--------- Variance\n",
    "print(\"Var 1:\",\"{:.3f}\".format(sample_1_vr))\n",
    "sample_2_N = len(d2) #--------- Sample Size\n",
    "print(\"Sample 2 Size (N):\",sample_2_N)\n",
    "sample_2_mean = statistics.mean(d2)#--------- Sample Arithmetic mean / average\n",
    "print(\"Mean 2:\", \"{:.3f}\".format(sample_2_mean))\n",
    "sample_2_vr = statistics.variance(d2) #--------- Variance\n",
    "print(\"Var 2:\",\"{:.3f}\".format(sample_2_vr))\n",
    "\n",
    "\n",
    "print(\"------------------- way-1 ------------- Statistic Comparison --------------\")\n",
    "#---------  t-test Statistic (way-1)\n",
    "sp_sqrt = ((sample_1_N-1)*sample_1_vr + (sample_2_N-1)*sample_2_vr)/(sample_1_N+sample_2_N-2)\n",
    "t_indipendent = (sample_1_mean-sample_2_mean)/(math.sqrt(sp_sqrt*(1/sample_1_N + 1/sample_2_N)))\n",
    "print(\"Independent t-test:\",\"{:.3f}\".format(t_indipendent))\n",
    "#--------- t Distribution: Critical Value\n",
    "df = sample_1_N + sample_2_N -2\n",
    "t_critical_value = t.ppf(a/2, df)\n",
    "print(\"t Critical Value:\",\"{:.3f}\".format(t_critical_value))\n",
    "#--------- hypotheses testing \n",
    "if( abs(t_critical_value) <  abs(t_indipendent) ):\n",
    "    print(\"The null hypotheses CAN be rejected\")\n",
    "else:\n",
    "    print(\"We CAN NOT exclude the null hypotheses\")\n",
    "    \n",
    "    \n",
    "print(\"------------------- way-2 -------------- P-value Comparison ---------------\")\n",
    "#---------  t-test Statistic (way-2)\n",
    "statistic, p_value = ttest_ind(d1,d2)\n",
    "print(\"Independent t-test:\",\"{:.3f}\".format(statistic))\n",
    "print(\"p-value:\",\"{:.3f}\".format(p_value))\n",
    "print(\"a value:\",a_value)\n",
    "#--------- hypotheses testing (way-1)\n",
    "if(abs(p_value) < abs(a_value)):\n",
    "    print(\"The null hypotheses CAN be rejected\")\n",
    "else:\n",
    "    print(\"We CAN NOT exclude the null hypotheses\")   \n",
    "    \n"
   ]
  },
  {
   "cell_type": "code",
   "execution_count": 139,
   "metadata": {},
   "outputs": [
    {
     "name": "stdout",
     "output_type": "stream",
     "text": [
      "------------------------------ data information -------------------------\n",
      "Sample 1 Size (N): 10\n",
      "Mean 1: 169.500\n",
      "Var 1: 372.500\n",
      "Sample 2 Size (N): 10\n",
      "Mean 2: 182.500\n",
      "Var 2: 254.278\n",
      "------------------- way-1 ------------- Statistic Comparison --------------\n",
      "------------------- way-2 ------------- Statistic Comparison --------------\n",
      "Paired t-test: -3.621\n",
      "p-value: 0.006\n",
      "a value: 0.01\n",
      "The null hypotheses CAN be rejected\n"
     ]
    }
   ],
   "source": [
    "#------------------------------------------ TWO POPULATIONS ------------------------------------------#\n",
    "#------------------------- Parametric Tests Paired\n",
    "#------- Small Sample and Large\n",
    "# Given two lists of data (Paired t-test)\n",
    "\n",
    "a_value = 0.01\n",
    "d1 = [170, 164, 140, 184, 174, 142, 191, 169, 161, 200]\n",
    "d2 = [201, 179, 159, 195, 177, 170, 183, 179, 170, 212]\n",
    "\n",
    "\n",
    "print(\"------------------------------ data information -------------------------\")\n",
    "sample_1_N = len(d1) #--------- Sample Size\n",
    "print(\"Sample 1 Size (N):\",sample_1_N)\n",
    "sample_1_mean = statistics.mean(d1)#--------- Sample Arithmetic mean / average\n",
    "print(\"Mean 1:\", \"{:.3f}\".format(sample_1_mean))\n",
    "sample_1_vr = statistics.variance(d1) #--------- Variance\n",
    "print(\"Var 1:\",\"{:.3f}\".format(sample_1_vr))\n",
    "sample_2_N = len(d2) #--------- Sample Size\n",
    "print(\"Sample 2 Size (N):\",sample_2_N)\n",
    "sample_2_mean = statistics.mean(d2)#--------- Sample Arithmetic mean / average\n",
    "print(\"Mean 2:\", \"{:.3f}\".format(sample_2_mean))\n",
    "sample_2_vr = statistics.variance(d2) #--------- Variance\n",
    "print(\"Var 2:\",\"{:.3f}\".format(sample_2_vr))\n",
    "\n",
    "print(\"------------------- way-1 ------------- Statistic Comparison --------------\")\n",
    "\n",
    "\n",
    "print(\"------------------- way-2 ------------- Statistic Comparison --------------\")\n",
    "#---------  t-test Statistic (way-2)\n",
    "statistic, p_value = stats.ttest_rel(d1,d2)\n",
    "print(\"Paired t-test:\",\"{:.3f}\".format(statistic))\n",
    "print(\"p-value:\",\"{:.3f}\".format(p_value))\n",
    "print(\"a value:\",a_value)\n",
    "#--------- hypotheses testing (way-2)\n",
    "if(abs(p_value) < abs(a_value)):\n",
    "    print(\"The null hypotheses CAN be rejected\")\n",
    "else:\n",
    "    print(\"We CAN NOT exclude the null hypotheses\")   \n",
    "    "
   ]
  },
  {
   "cell_type": "code",
   "execution_count": 58,
   "metadata": {},
   "outputs": [
    {
     "name": "stdout",
     "output_type": "stream",
     "text": [
      "--Sum Rank statistic: -1.512\n",
      "The two-sided p-value: 0.131\n",
      "We CAN NOT exclude the null hypotheses\n"
     ]
    }
   ],
   "source": [
    "#------------------------------------------ TWO POPULATIONS ------------------------------------------#\n",
    "#------------------------- Non Parametric Test Independent\n",
    "#------- Large Sample (Sum Rank statistic)\n",
    "# Given two lists of data \n",
    "\n",
    "a_value = 0.01\n",
    "d1 = [170, 164, 140, 184, 174, 142, 191, 169, 161, 200]\n",
    "d2 = [201, 179, 159, 195, 177, 170, 183, 179, 170, 212]\n",
    "\n",
    "#--- \n",
    "statistic, p_value = ranksums(d1, d2) #<--- Sum Rank  \n",
    "print(\"--Sum Rank statistic:\",\"{:.3f}\".format(statistic))\n",
    "print(\"The two-sided p-value:\",\"{:.3f}\".format(p_value))\n",
    "if(abs(p_value) < abs(a_value)):\n",
    "    print(\"The null hypotheses CAN be rejected\")\n",
    "else:\n",
    "    print(\"We CAN NOT exclude the null hypotheses\")   "
   ]
  },
  {
   "cell_type": "code",
   "execution_count": 59,
   "metadata": {},
   "outputs": [
    {
     "name": "stdout",
     "output_type": "stream",
     "text": [
      "--The Mann-Whitney U statistic: 30.000\n",
      "The two-sided p-value: 0.070\n",
      "We CAN NOT exclude the null hypotheses\n"
     ]
    }
   ],
   "source": [
    "#------------------------------------------ TWO POPULATIONS ------------------------------------------#\n",
    "#------------------------- Non Parametric Test Independent\n",
    "#------- Large Sample (Mann-Whitney U)\n",
    "# Given two lists of data \n",
    "\n",
    "a_value = 0.01\n",
    "d1 = [170, 164, 140, 184, 174, 142, 191, 169, 161, 200]\n",
    "d2 = [201, 179, 159, 195, 177, 170, 183, 179, 170, 212]\n",
    "\n",
    "statistic, p_value = mannwhitneyu(d1, d2,alternative=None) \n",
    "print(\"--The Mann-Whitney U statistic:\",\"{:.3f}\".format(statistic))\n",
    "print(\"The two-sided p-value:\",\"{:.3f}\".format(p_value))\n",
    "if(abs(p_value) < abs(a_value)):\n",
    "    print(\"The null hypotheses CAN be rejected\")\n",
    "else:\n",
    "    print(\"We CAN NOT exclude the null hypotheses\")   "
   ]
  },
  {
   "cell_type": "code",
   "execution_count": 20,
   "metadata": {},
   "outputs": [
    {
     "name": "stdout",
     "output_type": "stream",
     "text": [
      "--Wilcoxon Signed-Rank statistic: 15.500\n",
      "The two-sided p-value: 0.033\n",
      "The null hypotheses CAN be rejected\n",
      "--Sign Test p-value: 0.092\n",
      "We CAN NOT exclude the null hypotheses\n"
     ]
    }
   ],
   "source": [
    "#------------------------------------------ TWO POPULATIONS ------------------------------------------#\n",
    "#------------------------- Non Parametric Test Paired\n",
    "#------- Large and Small Samples (Sign Test/ W. Sign Rank tests)\n",
    "# Given two lists of data \n",
    "\n",
    "a_value = 0.05\n",
    "#d1 = [170, 164, 140, 184, 174, 142, 191, 169, 161, 200]\n",
    "#d2 = [201, 179, 159, 195, 177, 170, 183, 179, 170, 212]\n",
    "d1 = [3.5, 4, 4.5, 3.5, 2.5, 3, 3, 3.5, 2.5, 3, 4, 4.5, 4, 2.5]\n",
    "d2 = [2, 3, 4, 4, 2, 2, 4, 3, 1, 2, 2.5, 4, 4, 3]\n",
    "\n",
    "statistic, p_value = wilcoxon(d1,d2,alternative='two-sided') #<--- Wilcoxon Signed-Rank Test\n",
    "print(\"--Wilcoxon Signed-Rank statistic:\",\"{:.3f}\".format(statistic))\n",
    "print(\"The two-sided p-value:\",\"{:.3f}\".format(p_value))\n",
    "if(abs(p_value) < abs(a_value)):\n",
    "    print(\"The null hypotheses CAN be rejected\")\n",
    "else:\n",
    "    print(\"We CAN NOT exclude the null hypotheses\")   \n",
    "p_value = SignTest(d1, d2,0.5)\n",
    "print(\"--Sign Test p-value:\",\"{:.3f}\".format(p_value))\n",
    "if(abs(p_value) < abs(a_value)):\n",
    "    print(\"The null hypotheses CAN be rejected\")\n",
    "else:\n",
    "    print(\"We CAN NOT exclude the null hypotheses\")   "
   ]
  },
  {
   "cell_type": "code",
   "execution_count": 6,
   "metadata": {},
   "outputs": [
    {
     "name": "stdout",
     "output_type": "stream",
     "text": [
      "[1.5, 1, 0.5, -0.5, 0.5, 1, -1, 0.5, 1.5, 1, 1.5, 0.5, 0, -0.5]\n"
     ]
    }
   ],
   "source": [
    "#------------ Wilcoxon Signed-Rank Analyticaly \n",
    "\n",
    "d1 = [3.5, 4, 4.5, 3.5, 2.5, 3, 3, 3.5, 2.5, 3, 4, 4.5, 4, 2.5]\n",
    "d2 = [2, 3, 4, 4, 2, 2, 4, 3, 1, 2, 2.5, 4, 4, 3]\n",
    "\n",
    "diff = []\n",
    "for i in range(0,len(d1)):\n",
    "    diff.append(d1[i]-d2[i])\n",
    "\n",
    "print(diff)"
   ]
  },
  {
   "cell_type": "code",
   "execution_count": 9,
   "metadata": {},
   "outputs": [
    {
     "name": "stdout",
     "output_type": "stream",
     "text": [
      "N: 14  n_pos: 3  n_neg: 10  n_zero: 1\n",
      "0.046142578125000014\n"
     ]
    }
   ],
   "source": [
    "data1 = d1\n",
    "data2 = d2\n",
    "\n",
    "N = len(data1) # total samples\n",
    "n_pos = 0\n",
    "n_neg = 0\n",
    "n_zero = 0\n",
    "for i in range(0,N):\n",
    "    if( data1[i]-data2[i] > 0 ):\n",
    "        n_pos +=1\n",
    "    elif (data1[i]-data2[i] < 0):\n",
    "        n_neg +=1\n",
    "    else:\n",
    "        n_zero +=1\n",
    "if(abs(n_pos)>abs(n_neg)):\n",
    "    local = n_pos\n",
    "    n_pos = n_neg\n",
    "    n_neg = local\n",
    "\n",
    "print(\"N:\",N,\" n_pos:\",n_pos,\" n_neg:\",n_neg,\" n_zero:\",n_zero)\n",
    "    \n",
    "p_value = binom.cdf(n_pos, N-n_zero, 0.5) + (1- binom.cdf(n_neg-1, N-n_zero, 0.5)) # 2-tail\n",
    "p_value = binom.cdf(n_pos, N-n_zero, 0.5) # 1-tail\n",
    "\n",
    "\n",
    "print(p_value)"
   ]
  },
  {
   "cell_type": "code",
   "execution_count": 4,
   "metadata": {},
   "outputs": [
    {
     "name": "stdout",
     "output_type": "stream",
     "text": [
      "------------------- way-2 ------------- Statistic Comparison --------------\n",
      "Paired t-test: 6.327\n",
      "p-value: 0.013\n",
      "a value: 0.01\n",
      "We CAN NOT exclude the null hypotheses\n"
     ]
    }
   ],
   "source": [
    "#------------------------------------------ THREE+ POPULATIONS ------------------------------------------#\n",
    "#------------------------- Parametric Independent\n",
    "#------- Large and Small Samples (One-way ANOVA)\n",
    "# Given 3 lists of data \n",
    "\n",
    "\n",
    "a_value = 0.01\n",
    "d1 = [7.2, 5.6, 6.1, 4.1, 4.7]\n",
    "d2 = [6.5, 7.5, 6.2, 8.9, 8.0]\n",
    "d3 = [10.2, 7.8, 7.7, 6.6, 8.9]\n",
    "\n",
    "print(\"------------------- way-2 ------------- Statistic Comparison --------------\")\n",
    "#---------  t-test Statistic (way-2)\n",
    "F_statistic, p_value = f_oneway(d1, d2, d3)\n",
    "print(\"Paired t-test:\",\"{:.3f}\".format(F_statistic))\n",
    "print(\"p-value:\",\"{:.3f}\".format(p_value))\n",
    "print(\"a value:\",a_value)\n",
    "#--------- hypotheses testing (way-2)\n",
    "if(abs(p_value) < abs(a_value)):\n",
    "    print(\"The null hypotheses CAN be rejected\")\n",
    "else:\n",
    "    print(\"We CAN NOT exclude the null hypotheses\")   \n",
    "\n"
   ]
  },
  {
   "cell_type": "code",
   "execution_count": 157,
   "metadata": {},
   "outputs": [
    {
     "name": "stdout",
     "output_type": "stream",
     "text": [
      "    d1   d2    d3\n",
      "0  6.9  6.8  10.5\n",
      "1  5.4  7.8   8.1\n",
      "2  5.8  6.5   8.0\n",
      "3  4.0  9.2   6.9\n",
      "4  4.6  8.3   9.2\n"
     ]
    }
   ],
   "source": [
    "#------------------------------------------ THREE+ POPULATIONS ------------------------------------------#\n",
    "#------------------------- Parametric Paired\n",
    "#------- Large and Small Samples (Two/n-way ANOVA)\n",
    "# Given 3 lists of data \n",
    "\n",
    "import numpy as np\n",
    "import pandas as pd\n",
    "\n",
    "\n",
    "d1=[6.9, 5.4, 5.8, 4, 4.6]\n",
    "d2=[6.8, 7.8, 6.5, 9.2, 8.3]\n",
    "d3=[10.5, 8.1, 8.0, 6.9, 9.2]\n",
    "#create data\n",
    "df = pd.DataFrame({'d1': d1,\n",
    "                   'd2': d2,\n",
    "                   'd3': d3})\n",
    "\n",
    "print(df)\n",
    "\n",
    "import statsmodels.api as sm\n",
    "from statsmodels.formula.api import ols\n",
    "\n",
    "#perform two-way ANOVA\n",
    "#model = ols('d3 ~ C(d2)', data=df).fit()\n",
    "#sm.stats.anova_lm(model, typ=2)\n"
   ]
  },
  {
   "cell_type": "code",
   "execution_count": null,
   "metadata": {},
   "outputs": [],
   "source": [
    "#------------------------------------------ THREE+ POPULATIONS ------------------------------------------#\n",
    "#------------------------- Non Parametric Independent\n",
    "#------- Large and Small Samples (Kruskal-Wallis H test)\n",
    "# Given 3 lists of data \n",
    "\n",
    "a_value = 0.01\n",
    "d1 = [170, 164, 140, 184, 174, 142, 191, 169, 161, 200]\n",
    "d2 = [201, 179, 159, 195, 177, 170, 183, 179, 170, 212]\n",
    "d3 = []\n",
    "\n",
    "\n",
    "\n",
    "statistic, p_value = kruskal(d1, d2, d3) #<--- Kruskal-Wallis H Test\n",
    "print(\"--Kruskal-Wallis H Test\",\"{:.3f}\".format(statistic))\n",
    "print(\"The two-sided p-value:\",\"{:.3f}\".format(p_value))\n",
    "if(abs(p_value) < abs(a_value)):\n",
    "    print(\"The null hypotheses CAN be rejected\")\n",
    "else:\n",
    "    print(\"We CAN NOT exclude the null hypotheses\")   "
   ]
  },
  {
   "cell_type": "code",
   "execution_count": null,
   "metadata": {},
   "outputs": [],
   "source": [
    "#------------------------------------------ THREE+ POPULATIONS ------------------------------------------#\n",
    "#------------------------- Non Parametric Paired\n",
    "#------- Large and Small Samples (Friedman test)\n",
    "# Given 3 lists of data \n",
    "\n",
    "a_value = 0.01\n",
    "d1 = [170, 164, 140, 184, 174, 142, 191, 169, 161, 200]\n",
    "d2 = [201, 179, 159, 195, 177, 170, 183, 179, 170, 212]\n",
    "d3 = []\n",
    "\n",
    "\n",
    "statistic, p_value = friedmanchisquare(d1, d2, d3) #<--- Friedman Test\n",
    "print(\"--Friedman\",\"{:.3f}\".format(statistic))\n",
    "print(\"The two-sided p-value:\",\"{:.3f}\".format(p_value))\n",
    "if(abs(p_value) < abs(a_value)):\n",
    "    print(\"The null hypotheses CAN be rejected\")\n",
    "else:\n",
    "    print(\"We CAN NOT exclude the null hypotheses\")   "
   ]
  },
  {
   "cell_type": "markdown",
   "metadata": {},
   "source": [
    "# Correlation Between Variables"
   ]
  },
  {
   "cell_type": "code",
   "execution_count": 161,
   "metadata": {},
   "outputs": [
    {
     "data": {
      "image/png": "[encoded data removed]",
      "text/plain": [
       "<Figure size 640x480 with 1 Axes>"
      ]
     },
     "metadata": {},
     "output_type": "display_data"
    },
    {
     "name": "stdout",
     "output_type": "stream",
     "text": [
      "[[385.33297729 389.7545618 ]\n",
      " [389.7545618  500.38006058]]\n"
     ]
    },
    {
     "ename": "TypeError",
     "evalue": "'numpy.ndarray' object is not callable",
     "output_type": "error",
     "traceback": [
      "\u001b[0;31m---------------------------------------------------------------------------\u001b[0m",
      "\u001b[0;31mTypeError\u001b[0m                                 Traceback (most recent call last)",
      "\u001b[0;32m<ipython-input-161-2abbaaab787f>\u001b[0m in \u001b[0;36m<module>\u001b[0;34m\u001b[0m\n\u001b[1;32m     11\u001b[0m \u001b[0mprint\u001b[0m\u001b[0;34m(\u001b[0m\u001b[0mcovariance\u001b[0m\u001b[0;34m)\u001b[0m\u001b[0;34m\u001b[0m\u001b[0;34m\u001b[0m\u001b[0m\n\u001b[1;32m     12\u001b[0m \u001b[0;34m\u001b[0m\u001b[0m\n\u001b[0;32m---> 13\u001b[0;31m \u001b[0mpcc\u001b[0m \u001b[0;34m=\u001b[0m \u001b[0mcovariance\u001b[0m\u001b[0;34m(\u001b[0m\u001b[0md1\u001b[0m\u001b[0;34m,\u001b[0m\u001b[0md2\u001b[0m\u001b[0;34m)\u001b[0m \u001b[0;34m/\u001b[0m \u001b[0;34m(\u001b[0m\u001b[0mstdv\u001b[0m\u001b[0;34m(\u001b[0m\u001b[0md1\u001b[0m\u001b[0;34m)\u001b[0m \u001b[0;34m*\u001b[0m \u001b[0mstdv\u001b[0m\u001b[0;34m(\u001b[0m\u001b[0mY\u001b[0m\u001b[0;34m)\u001b[0m\u001b[0;34m)\u001b[0m\u001b[0;34m\u001b[0m\u001b[0;34m\u001b[0m\u001b[0m\n\u001b[0m",
      "\u001b[0;31mTypeError\u001b[0m: 'numpy.ndarray' object is not callable"
     ]
    }
   ],
   "source": [
    "\n",
    "\n",
    "seed(1)\n",
    "data1 = 20 * randn(1000) + 100\n",
    "data2 = data1 + (10 * randn(1000) + 50)\n",
    "\n",
    "pyplot.scatter(data1, data2) # plot\n",
    "pyplot.show()\n",
    "\n",
    "\n",
    "# calculate covariance matrix\n",
    "covariance = cov(data1, data2)\n",
    "print(covariance)\n",
    "\n",
    "#pcc = covariance(d1,d2) / (stdv(d1) * stdv(Y))"
   ]
  },
  {
   "cell_type": "code",
   "execution_count": null,
   "metadata": {},
   "outputs": [],
   "source": []
  }
 ],
 "metadata": {
  "kernelspec": {
   "display_name": "Python 3",
   "language": "python",
   "name": "python3"
  },
  "language_info": {
   "codemirror_mode": {
    "name": "ipython",
    "version": 3
   },
   "file_extension": ".py",
   "mimetype": "text/x-python",
   "name": "python",
   "nbconvert_exporter": "python",
   "pygments_lexer": "ipython3",
   "version": "3.7.6"
  }
 },
 "nbformat": 4,
 "nbformat_minor": 4
}
